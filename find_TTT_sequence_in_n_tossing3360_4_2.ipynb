{
  "nbformat": 4,
  "nbformat_minor": 0,
  "metadata": {
    "colab": {
      "provenance": [],
      "collapsed_sections": [],
      "authorship_tag": "ABX9TyNaeZ372LqWa4YPsSn5SIGT",
      "include_colab_link": true
    },
    "kernelspec": {
      "name": "python3",
      "display_name": "Python 3"
    },
    "language_info": {
      "name": "python"
    }
  },
  "cells": [
    {
      "cell_type": "markdown",
      "metadata": {
        "id": "view-in-github",
        "colab_type": "text"
      },
      "source": [
        "<a href=\"https://colab.research.google.com/github/EasonJia9598/3360/blob/main/find_TTT_sequence_in_n_tossing3360_4_2.ipynb\" target=\"_parent\"><img src=\"https://colab.research.google.com/assets/colab-badge.svg\" alt=\"Open In Colab\"/></a>"
      ]
    },
    {
      "cell_type": "markdown",
      "source": [
        "## A fair coin is tossed 9 times.\n",
        "\n",
        "\n",
        "(1) What is the probability that the sequence TTT occurs at least once\n",
        "in the 9 tosses?"
      ],
      "metadata": {
        "id": "Th22nwEetlK7"
      }
    },
    {
      "cell_type": "code",
      "source": [
        "#-----------------------------------------------------------------------\n",
        "# <copyright file=\"https://github.com/EasonJia9598/3360\">\n",
        "#     Author: Zesheng Jia\n",
        "#     Copyright (c) Developer Express. All rights reserved.\n",
        "# </copyright>\n",
        "#----\n",
        "import itertools \n",
        "import pandas as pd\n",
        "\n",
        "result = []\n",
        "num_result = 0\n",
        "\n",
        "for index in range(7): \n",
        "  array = []\n",
        "  sample_space = [1,2,3,4,5,6,7]\n",
        "\n",
        "  # get the combination of sample_space\n",
        "  for subset in itertools.combinations(sample_space, index + 1):\n",
        "    array.append(subset) # save the subset to an array for future accessing\n",
        "\n",
        "  # use sets to eliminate all duplicate items\n",
        "  sets = []\n",
        "  for i in range(len(array)):\n",
        "    myset = set()\n",
        "    # for each sequence, we actually save its index, its index + 1, its index +2\n",
        "    # as the TTT. So if we save each event's all possible index into a set.\n",
        "    # we can eliminate the duplicate items and find the total length.\n",
        "    for j in range(len(array[i])):\n",
        "        for k in range(3):\n",
        "          myset.add(array[i][j] + k)\n",
        "    sets.append(myset)\n",
        "\n",
        "  # find our corresponding sets' total TTT length\n",
        "   # That is our m of  \"n * (1/2)^m\"\n",
        "  num_items = []\n",
        "\n",
        "  for item in sets:\n",
        "    num_items.append(len(item))\n",
        "\n",
        "  # we use a dictionary to retreive the amounts of the sets with a same total \n",
        "  # TTT length.\n",
        "  # That is our n of  \"n * (1/2)^m\"\n",
        "\n",
        "  num_counts = {}\n",
        "\n",
        "  for number in num_items:\n",
        "    # get each number index from each instance\n",
        "      if num_counts.get(number) == None:\n",
        "        num_counts[number] = 1\n",
        "      # if the number alreadt exits, then add number 1\n",
        "      else:\n",
        "        num_counts[number] = num_counts.get(number) + 1 \n",
        "\n",
        "  # PRINT SUMMARY\n",
        "  # \n",
        "  print(\"\\n###############\")\n",
        "  print('For ' , index + 1,  ' pair , we have ')\n",
        "\n",
        "  temp_result = \"\"\n",
        "  \n",
        "  for key in num_counts:\n",
        "    if index % 2 == 0:\n",
        "      print( ' + ',end = '')\n",
        "      temp_result += ' + '\n",
        "      num_result = num_result + num_counts[key] * ((0.5)**key)\n",
        "    else:\n",
        "      print( ' - ', end = '')\n",
        "      temp_result += ' - ' \n",
        "      num_result = num_result - num_counts[key] * ((0.5)**key)\n",
        "      \n",
        "    print(num_counts[key], ' * (1/2)^',  key, end='')\n",
        "    temp_result += (str(num_counts[key]) +' * (1/2)^' + str(key))\n",
        "\n",
        "\n",
        "  # use panda dataframe to format our result and sorting.\n",
        "  result.append(temp_result)\n",
        "  print(\"\\n\")\n",
        "  df = pd.DataFrame(array)\n",
        "  df['total_TTT_length'] = pd.DataFrame(num_items)\n",
        "  df = df.sort_values(by=['total_TTT_length', 0])\n",
        "  df = df.reset_index(drop = True)\n",
        "  print(df)\n",
        "\n",
        "print(\"#############################\")\n",
        "print(\"final result:\", num_result)"
      ],
      "metadata": {
        "colab": {
          "base_uri": "https://localhost:8080/"
        },
        "id": "7lWfQBi4xRVv",
        "outputId": "708fcac8-ac62-420f-dbb4-33ad04ab6a32"
      },
      "execution_count": 5,
      "outputs": [
        {
          "output_type": "stream",
          "name": "stdout",
          "text": [
            "\n",
            "###############\n",
            "For  1  pair , we have \n",
            " + 7  * (1/2)^ 3\n",
            "\n",
            "   0  total_TTT_length\n",
            "0  1                 3\n",
            "1  2                 3\n",
            "2  3                 3\n",
            "3  4                 3\n",
            "4  5                 3\n",
            "5  6                 3\n",
            "6  7                 3\n",
            "\n",
            "###############\n",
            "For  2  pair , we have \n",
            " - 6  * (1/2)^ 4 - 5  * (1/2)^ 5 - 10  * (1/2)^ 6\n",
            "\n",
            "    0  1  total_TTT_length\n",
            "0   1  2                 4\n",
            "1   2  3                 4\n",
            "2   3  4                 4\n",
            "3   4  5                 4\n",
            "4   5  6                 4\n",
            "5   6  7                 4\n",
            "6   1  3                 5\n",
            "7   2  4                 5\n",
            "8   3  5                 5\n",
            "9   4  6                 5\n",
            "10  5  7                 5\n",
            "11  1  4                 6\n",
            "12  1  5                 6\n",
            "13  1  6                 6\n",
            "14  1  7                 6\n",
            "15  2  5                 6\n",
            "16  2  6                 6\n",
            "17  2  7                 6\n",
            "18  3  6                 6\n",
            "19  3  7                 6\n",
            "20  4  7                 6\n",
            "\n",
            "###############\n",
            "For  3  pair , we have \n",
            " + 5  * (1/2)^ 5 + 8  * (1/2)^ 6 + 15  * (1/2)^ 7 + 6  * (1/2)^ 8 + 1  * (1/2)^ 9\n",
            "\n",
            "    0  1  2  total_TTT_length\n",
            "0   1  2  3                 5\n",
            "1   2  3  4                 5\n",
            "2   3  4  5                 5\n",
            "3   4  5  6                 5\n",
            "4   5  6  7                 5\n",
            "5   1  2  4                 6\n",
            "6   1  3  4                 6\n",
            "7   2  3  5                 6\n",
            "8   2  4  5                 6\n",
            "9   3  4  6                 6\n",
            "10  3  5  6                 6\n",
            "11  4  5  7                 6\n",
            "12  4  6  7                 6\n",
            "13  1  2  5                 7\n",
            "14  1  2  6                 7\n",
            "15  1  2  7                 7\n",
            "16  1  3  5                 7\n",
            "17  1  4  5                 7\n",
            "18  1  5  6                 7\n",
            "19  1  6  7                 7\n",
            "20  2  3  6                 7\n",
            "21  2  3  7                 7\n",
            "22  2  4  6                 7\n",
            "23  2  5  6                 7\n",
            "24  2  6  7                 7\n",
            "25  3  4  7                 7\n",
            "26  3  5  7                 7\n",
            "27  3  6  7                 7\n",
            "28  1  3  6                 8\n",
            "29  1  3  7                 8\n",
            "30  1  4  6                 8\n",
            "31  1  5  7                 8\n",
            "32  2  4  7                 8\n",
            "33  2  5  7                 8\n",
            "34  1  4  7                 9\n",
            "\n",
            "###############\n",
            "For  4  pair , we have \n",
            " - 4  * (1/2)^ 6 - 9  * (1/2)^ 7 - 15  * (1/2)^ 8 - 7  * (1/2)^ 9\n",
            "\n",
            "    0  1  2  3  total_TTT_length\n",
            "0   1  2  3  4                 6\n",
            "1   2  3  4  5                 6\n",
            "2   3  4  5  6                 6\n",
            "3   4  5  6  7                 6\n",
            "4   1  2  3  5                 7\n",
            "5   1  2  4  5                 7\n",
            "6   1  3  4  5                 7\n",
            "7   2  3  4  6                 7\n",
            "8   2  3  5  6                 7\n",
            "9   2  4  5  6                 7\n",
            "10  3  4  5  7                 7\n",
            "11  3  4  6  7                 7\n",
            "12  3  5  6  7                 7\n",
            "13  1  2  3  6                 8\n",
            "14  1  2  3  7                 8\n",
            "15  1  2  4  6                 8\n",
            "16  1  2  5  6                 8\n",
            "17  1  2  6  7                 8\n",
            "18  1  3  4  6                 8\n",
            "19  1  3  5  6                 8\n",
            "20  1  4  5  6                 8\n",
            "21  1  5  6  7                 8\n",
            "22  2  3  4  7                 8\n",
            "23  2  3  5  7                 8\n",
            "24  2  3  6  7                 8\n",
            "25  2  4  5  7                 8\n",
            "26  2  4  6  7                 8\n",
            "27  2  5  6  7                 8\n",
            "28  1  2  4  7                 9\n",
            "29  1  2  5  7                 9\n",
            "30  1  3  4  7                 9\n",
            "31  1  3  5  7                 9\n",
            "32  1  3  6  7                 9\n",
            "33  1  4  5  7                 9\n",
            "34  1  4  6  7                 9\n",
            "\n",
            "###############\n",
            "For  5  pair , we have \n",
            " + 3  * (1/2)^ 7 + 8  * (1/2)^ 8 + 10  * (1/2)^ 9\n",
            "\n",
            "    0  1  2  3  4  total_TTT_length\n",
            "0   1  2  3  4  5                 7\n",
            "1   2  3  4  5  6                 7\n",
            "2   3  4  5  6  7                 7\n",
            "3   1  2  3  4  6                 8\n",
            "4   1  2  3  5  6                 8\n",
            "5   1  2  4  5  6                 8\n",
            "6   1  3  4  5  6                 8\n",
            "7   2  3  4  5  7                 8\n",
            "8   2  3  4  6  7                 8\n",
            "9   2  3  5  6  7                 8\n",
            "10  2  4  5  6  7                 8\n",
            "11  1  2  3  4  7                 9\n",
            "12  1  2  3  5  7                 9\n",
            "13  1  2  3  6  7                 9\n",
            "14  1  2  4  5  7                 9\n",
            "15  1  2  4  6  7                 9\n",
            "16  1  2  5  6  7                 9\n",
            "17  1  3  4  5  7                 9\n",
            "18  1  3  4  6  7                 9\n",
            "19  1  3  5  6  7                 9\n",
            "20  1  4  5  6  7                 9\n",
            "\n",
            "###############\n",
            "For  6  pair , we have \n",
            " - 2  * (1/2)^ 8 - 5  * (1/2)^ 9\n",
            "\n",
            "   0  1  2  3  4  5  total_TTT_length\n",
            "0  1  2  3  4  5  6                 8\n",
            "1  2  3  4  5  6  7                 8\n",
            "2  1  2  3  4  5  7                 9\n",
            "3  1  2  3  4  6  7                 9\n",
            "4  1  2  3  5  6  7                 9\n",
            "5  1  2  4  5  6  7                 9\n",
            "6  1  3  4  5  6  7                 9\n",
            "\n",
            "###############\n",
            "For  7  pair , we have \n",
            " + 1  * (1/2)^ 9\n",
            "\n",
            "   0  1  2  3  4  5  6  total_TTT_length\n",
            "0  1  2  3  4  5  6  7                 9\n",
            "#############################\n",
            "final result: 0.46484375\n"
          ]
        }
      ]
    },
    {
      "cell_type": "code",
      "source": [
        "num_result"
      ],
      "metadata": {
        "colab": {
          "base_uri": "https://localhost:8080/"
        },
        "id": "L1fSn54--FED",
        "outputId": "823ed982-7848-47f2-d901-f58417ee4440"
      },
      "execution_count": 2,
      "outputs": [
        {
          "output_type": "execute_result",
          "data": {
            "text/plain": [
              "0.46484375"
            ]
          },
          "metadata": {},
          "execution_count": 2
        }
      ]
    },
    {
      "cell_type": "code",
      "source": [
        "# Correct answer\n",
        "119/256"
      ],
      "metadata": {
        "colab": {
          "base_uri": "https://localhost:8080/"
        },
        "id": "8SWcIpPNoAHJ",
        "outputId": "8278610a-b70f-43f6-98a4-73dd71780f52"
      },
      "execution_count": 3,
      "outputs": [
        {
          "output_type": "execute_result",
          "data": {
            "text/plain": [
              "0.46484375"
            ]
          },
          "metadata": {},
          "execution_count": 3
        }
      ]
    },
    {
      "cell_type": "markdown",
      "source": [
        "We can see that we have the same value of our program and question result."
      ],
      "metadata": {
        "id": "qaipeESftbNd"
      }
    },
    {
      "cell_type": "code",
      "source": [
        "# all items in our equation\n",
        "for i in range(len(result)):\n",
        "  print(result[i],end='')\n",
        "  if i == 2 :\n",
        "    print()"
      ],
      "metadata": {
        "colab": {
          "base_uri": "https://localhost:8080/"
        },
        "id": "PfrrKzg8oVFC",
        "outputId": "e1ad6f34-e827-41b1-882c-6fbee1e27a38"
      },
      "execution_count": null,
      "outputs": [
        {
          "output_type": "stream",
          "name": "stdout",
          "text": [
            " + 7 * (1/2)^3 - 6 * (1/2)^4 - 5 * (1/2)^5 - 10 * (1/2)^6 + 5 * (1/2)^5 + 8 * (1/2)^6 + 15 * (1/2)^7 + 6 * (1/2)^8 + 1 * (1/2)^9\n",
            " - 4 * (1/2)^6 - 9 * (1/2)^7 - 15 * (1/2)^8 - 7 * (1/2)^9 + 3 * (1/2)^7 + 8 * (1/2)^8 + 10 * (1/2)^9 - 2 * (1/2)^8 - 5 * (1/2)^9 + 1 * (1/2)^9"
          ]
        }
      ]
    },
    {
      "cell_type": "code",
      "source": [
        "result"
      ],
      "metadata": {
        "colab": {
          "base_uri": "https://localhost:8080/"
        },
        "id": "-fMPc-KFpO69",
        "outputId": "2067f518-f13f-4a01-d14b-fb54a215dc8d"
      },
      "execution_count": 4,
      "outputs": [
        {
          "output_type": "execute_result",
          "data": {
            "text/plain": [
              "[' + 7 * (1/2)^3',\n",
              " ' - 6 * (1/2)^4 - 5 * (1/2)^5 - 10 * (1/2)^6',\n",
              " ' + 5 * (1/2)^5 + 8 * (1/2)^6 + 15 * (1/2)^7 + 6 * (1/2)^8 + 1 * (1/2)^9',\n",
              " ' - 4 * (1/2)^6 - 9 * (1/2)^7 - 15 * (1/2)^8 - 7 * (1/2)^9',\n",
              " ' + 3 * (1/2)^7 + 8 * (1/2)^8 + 10 * (1/2)^9',\n",
              " ' - 2 * (1/2)^8 - 5 * (1/2)^9',\n",
              " ' + 1 * (1/2)^9']"
            ]
          },
          "metadata": {},
          "execution_count": 4
        }
      ]
    }
  ]
}